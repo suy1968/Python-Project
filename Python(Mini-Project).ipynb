{
 "cells": [
  {
   "cell_type": "markdown",
   "id": "a656f501",
   "metadata": {},
   "source": [
    "# Dice_Simulator"
   ]
  },
  {
   "cell_type": "code",
   "execution_count": 3,
   "id": "409a895d",
   "metadata": {},
   "outputs": [
    {
     "name": "stdout",
     "output_type": "stream",
     "text": [
      "Choose One Option: \n",
      "1. roll the dice \n",
      "2. exit\n",
      "4\n"
     ]
    }
   ],
   "source": [
    "import random \n",
    "while True:     \n",
    "     user = int(input(\"Choose One Option: \\n1. roll the dice \\n2. exit\\n\"))     \n",
    "     if user==1:         \n",
    "        number = random.randint(1,6)         \n",
    "        print(number)     \n",
    "     else:         \n",
    "        break"
   ]
  },
  {
   "cell_type": "markdown",
   "id": "ffc88cda",
   "metadata": {},
   "source": [
    "# Guess"
   ]
  },
  {
   "cell_type": "code",
   "execution_count": 4,
   "id": "30bde4c9",
   "metadata": {},
   "outputs": [
    {
     "name": "stdout",
     "output_type": "stream",
     "text": [
      "guess the number3\n",
      "Hurray!!\n",
      "you guessed the number right it's 3\n"
     ]
    }
   ],
   "source": [
    "import random\n",
    "number = random.randint(1,10)\n",
    "for i in range(0,3):\n",
    "    user = int(input(\"guess the number\"))\n",
    "    if user == number:\n",
    "        print(\"Hurray!!\")\n",
    "        print(f\"you guessed the number right it's {number}\")\n",
    "        break\n",
    "    elif user>number:\n",
    "        print(\"Your guess is too high\")\n",
    "    elif user<number:\n",
    "        print(\"Your guess is too low.\")\n",
    "else:\n",
    "    print(f\"Nice Try!, but the number is {number}\")"
   ]
  },
  {
   "cell_type": "markdown",
   "id": "ea020a1d",
   "metadata": {},
   "source": [
    "# Random_Password"
   ]
  },
  {
   "cell_type": "code",
   "execution_count": 7,
   "id": "e8e13fba",
   "metadata": {},
   "outputs": [
    {
     "name": "stdout",
     "output_type": "stream",
     "text": [
      "enter the length of password45\n",
      "3btMpcuPCl?vH1@04sDr0(zhB)IJR^Wo9gwkVUQO8eXmd\n"
     ]
    }
   ],
   "source": [
    "import random\n",
    "passlen = int(input(\"enter the length of password\"))\n",
    "s=\"abcdefghijklmnopqrstuvwxyz01234567890ABCDEFGHIJKLMNOPQRSTUVWXYZ!@#$%^&*()?\"\n",
    "p =  \"\".join(random.sample(s,passlen ))\n",
    "print (p)"
   ]
  },
  {
   "cell_type": "markdown",
   "id": "6e1de77d",
   "metadata": {},
   "source": [
    "# Story"
   ]
  },
  {
   "cell_type": "code",
   "execution_count": 8,
   "id": "cd8f92bd",
   "metadata": {},
   "outputs": [
    {
     "name": "stdout",
     "output_type": "stream",
     "text": [
      "A few years ago, a cat that lived in Venice, went to the cinema and Eats a burger\n"
     ]
    }
   ],
   "source": [
    "import random\n",
    "when = ['A few years ago', 'Yesterday', 'Last night', 'A long time ago','On 20th Jan']\n",
    "who = ['a rabbit', 'an elephant', 'a mouse', 'a turtle','a cat']\n",
    "name = ['Ali', 'Miriam','daniel', 'Hoouk', 'Starwalker']\n",
    "residence = ['Barcelona','India', 'Germany', 'Venice', 'England']\n",
    "went = ['cinema', 'university','seminar', 'school', 'laundry']\n",
    "happened = ['made a lot of friends','Eats a burger', 'found a secret key', 'solved a mistery', 'wrote a book']\n",
    "print( random.choice(when) + ', ' + random.choice(who) + ' that lived in ' + random.choice(residence) + ', went to the ' + random.choice(went) + ' and ' + random.choice(happened))"
   ]
  },
  {
   "cell_type": "markdown",
   "id": "0aab6947",
   "metadata": {},
   "source": [
    "# Rock-Paper"
   ]
  },
  {
   "cell_type": "code",
   "execution_count": null,
   "id": "6ebf902a",
   "metadata": {},
   "outputs": [
    {
     "name": "stdout",
     "output_type": "stream",
     "text": [
      "Rock, Paper or  Scissors?Paper\n",
      "Tie!\n",
      "Rock, Paper or  Scissors?Rock\n",
      "Tie!\n",
      "Rock, Paper or  Scissors?Scissors\n",
      "You win! Scissors cut Paper\n",
      "Rock, Paper or  Scissors?er\n",
      "That's not a valid play. Check your spelling!\n",
      "Rock, Paper or  Scissors?exit\n",
      "That's not a valid play. Check your spelling!\n"
     ]
    }
   ],
   "source": [
    "import random\n",
    "choices = [\"Rock\", \"Paper\", \"Scissors\"]\n",
    "computer = random.choice(choices)\n",
    "player = False\n",
    "cpu_score = 0\n",
    "player_score = 0\n",
    "while True:\n",
    "    player = input(\"Rock, Paper or  Scissors?\").capitalize()\n",
    "    ## Conditions of Rock,Paper and Scissors\n",
    "    if player == computer:\n",
    "        print(\"Tie!\")\n",
    "    elif player == \"Rock\":\n",
    "        if computer == \"Paper\":\n",
    "            print(\"You lose!\", computer, \"covers\", player)\n",
    "            cpu_score+=1\n",
    "        else:\n",
    "            print(\"You win!\", player, \"smashes\", computer)\n",
    "            player_score+=1\n",
    "    elif player == \"Paper\":\n",
    "        if computer == \"Scissors\":\n",
    "            print(\"You lose!\", computer, \"cut\", player)\n",
    "            cpu_score+=1\n",
    "        else:\n",
    "            print(\"You win!\", player, \"covers\", computer)\n",
    "            player_score+=1\n",
    "    elif player == \"Scissors\":\n",
    "        if computer == \"Rock\":\n",
    "            print(\"You lose...\", computer, \"smashes\", player)\n",
    "            cpu_score+=1\n",
    "        else:\n",
    "            print(\"You win!\", player, \"cut\", computer)\n",
    "            player_score+=1\n",
    "    elif player=='E':\n",
    "        print(\"Final Scores:\")\n",
    "        print(f\"CPU:{cpu_score}\")\n",
    "        print(f\"Plaer:{player_score}\")\n",
    "        break\n",
    "    else:\n",
    "        print(\"That's not a valid play. Check your spelling!\")\n",
    "    computer = random.choice(choices)"
   ]
  },
  {
   "cell_type": "markdown",
   "id": "7c941d69",
   "metadata": {},
   "source": [
    "# THANK YOU"
   ]
  }
 ],
 "metadata": {
  "kernelspec": {
   "display_name": "Python 3 (ipykernel)",
   "language": "python",
   "name": "python3"
  },
  "language_info": {
   "codemirror_mode": {
    "name": "ipython",
    "version": 3
   },
   "file_extension": ".py",
   "mimetype": "text/x-python",
   "name": "python",
   "nbconvert_exporter": "python",
   "pygments_lexer": "ipython3",
   "version": "3.9.12"
  }
 },
 "nbformat": 4,
 "nbformat_minor": 5
}
